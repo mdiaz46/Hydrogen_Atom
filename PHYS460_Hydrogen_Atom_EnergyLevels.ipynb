{
 "cells": [
  {
   "cell_type": "markdown",
   "metadata": {
    "pycharm": {
     "name": "#%% md\n"
    }
   },
   "source": [
    "# Marlon Diaz\n",
    "# HW #2 - Hydrogen Atom - PHYS 460\n",
    "\n",
    "## The Bohr Atom\n",
    "\n",
    "$$\\textbf{Max Planck found that}$$\n",
    "$$ h = 6.626 * 10^{-34} \\textbf{Joules} $$ \n",
    "\n",
    "\n",
    "Planck’s suggestion was that, for some unknown reason, the oscillating charges \\\n",
    "could only emit or absorb energy in multiples of hf , where f is the frequency \\\n",
    "of the oscillator. This means that the energy of radiation of frequency f could \\\n",
    "only have the possible values, known as the Planck-Einstein relation:\n",
    "\n",
    "$$ E = nhf$$\n",
    "\n",
    "where n is a quantum number.\n",
    "\n",
    "\n",
    "![ENERGY](https://cdn.kastatic.org/ka-perseus-images/e6a035d74d28197f25e5f423a8348768ff13a0c5.png)\n",
    "\n",
    "\n",
    "## Defined Constants"
   ]
  },
  {
   "cell_type": "code",
   "execution_count": 114,
   "metadata": {
    "pycharm": {
     "name": "#%%\n"
    }
   },
   "outputs": [],
   "source": [
    "h = 6.626*10**-34.          # units J*s    Planck's constant\n",
    "\n",
    "h1 = 4.135*10**-15.         # units eV/Hz\n",
    "\n",
    "hbar = 1.054*10**-34        # units J*s\n",
    "\n",
    "hbar1 = 6.582*10**-16       # units eV*s\n",
    "\n",
    "c = 3*10**8                 # units m/s   speed of light\n",
    "\n",
    "Ry = 2.1789*10**-18    # units Joules   Rydberg unit of energy \n"
   ]
  },
  {
   "cell_type": "markdown",
   "metadata": {
    "pycharm": {
     "name": "#%% md\n"
    }
   },
   "source": [
    "# 1.  n = 4 to m = 1\n",
    "\n",
    "$$ E = - \\frac{R_{y}}{n^{2}}$$\n",
    "\n",
    "\n",
    "#### where $R_{y}$ is the Rydberg unit of energy in Joules, $$ R_{y} = hcR_{H}$$\n",
    "\n",
    "#### and $ R_{H}$ is Rydberg constant for Hydrogen. $$ R_{H} = 10973731.568160*10^{21} m^{−1},$$\n",
    "\n",
    "\n",
    "#### The difference between the electrons energy in the $E_{n}$ and $E_{m}$ levels can be shown as,\n",
    "\n",
    "\n",
    "$$ \\Delta E = R_{y} \\left[ \\frac{1}{m^{2}} - \\frac{1}{n^{2}} \\right]$$\n"
   ]
  },
  {
   "cell_type": "code",
   "execution_count": 115,
   "metadata": {
    "pycharm": {
     "name": "#%%\n"
    }
   },
   "outputs": [],
   "source": [
    "# The energy of the electron is given by:\n",
    "\n",
    "n, m = 4,1\n",
    "\n",
    "deltaE_1 = (Ry)*((1/m**2) - (1/n**2))\n"
   ]
  },
  {
   "cell_type": "markdown",
   "metadata": {
    "pycharm": {
     "name": "#%% md\n"
    }
   },
   "source": [
    "# The difference in energy is given by:"
   ]
  },
  {
   "cell_type": "code",
   "execution_count": 116,
   "metadata": {
    "pycharm": {
     "name": "#%%\n"
    }
   },
   "outputs": [
    {
     "name": "stdout",
     "output_type": "stream",
     "text": [
      "Energy in Joules =  2.0427187500000004e-18\n"
     ]
    }
   ],
   "source": [
    "print('Energy in Joules = ', deltaE_1)"
   ]
  },
  {
   "cell_type": "markdown",
   "metadata": {
    "pycharm": {
     "name": "#%% md\n"
    }
   },
   "source": [
    "# 2.  n = 4 to m = 2\n",
    "\n",
    "$$ \\Delta E = R \\left[ \\frac{1}{m^{2}} - \\frac{1}{n^{2}} \\right]$$"
   ]
  },
  {
   "cell_type": "code",
   "execution_count": 117,
   "metadata": {
    "pycharm": {
     "name": "#%%\n"
    }
   },
   "outputs": [
    {
     "name": "stdout",
     "output_type": "stream",
     "text": [
      "Energy in Joules 4.085437500000001e-19\n"
     ]
    }
   ],
   "source": [
    "# The energy of the electron is given by:\n",
    "\n",
    "n, m = 4,2\n",
    "\n",
    "deltaE_2 = (Ry)*((1/m**2) - (1/n**2))\n",
    "\n",
    "print('Energy in Joules',deltaE_2)"
   ]
  },
  {
   "cell_type": "markdown",
   "metadata": {
    "pycharm": {
     "name": "#%% md\n"
    }
   },
   "source": [
    "# 3.  n = 2 to m = 1\n",
    "$$ \\Delta E = R \\left[ \\frac{1}{m^{2}} - \\frac{1}{n^{2}} \\right]$$"
   ]
  },
  {
   "cell_type": "code",
   "execution_count": 118,
   "metadata": {
    "pycharm": {
     "name": "#%%\n"
    }
   },
   "outputs": [
    {
     "name": "stdout",
     "output_type": "stream",
     "text": [
      "Energy in Joules 1.6341750000000004e-18\n"
     ]
    }
   ],
   "source": [
    "# The energy of the electron is given by:\n",
    "\n",
    "n, m = 2,1\n",
    "\n",
    "deltaE_3 = (Ry)*((1/m**2) - (1/n**2))\n",
    "\n",
    "print('Energy in Joules',deltaE_3)"
   ]
  },
  {
   "cell_type": "markdown",
   "metadata": {
    "pycharm": {
     "name": "#%% md\n"
    }
   },
   "source": [
    "# 4.  n = 496 to m = 400\n",
    "\n",
    "$$ \\Delta E = R \\left[ \\frac{1}{m^{2}} - \\frac{1}{n^{2}} \\right]$$"
   ]
  },
  {
   "cell_type": "code",
   "execution_count": 119,
   "metadata": {
    "pycharm": {
     "name": "#%%\n"
    }
   },
   "outputs": [
    {
     "name": "stdout",
     "output_type": "stream",
     "text": [
      "Energy in Joules 4.761383975026015e-24\n"
     ]
    }
   ],
   "source": [
    "# The energy of the electron is given by:\n",
    "\n",
    "n, m = 496,400\n",
    "\n",
    "deltaE_4 = (Ry)*((1/m**2) - (1/n**2))\n",
    "\n",
    "print('Energy in Joules',deltaE_4)"
   ]
  },
  {
   "cell_type": "markdown",
   "metadata": {
    "pycharm": {
     "name": "#%% md\n"
    }
   },
   "source": [
    "# 5.  FREQUENCY\n",
    "### of the electromagnetic radiation which this corresponds to.\n",
    "\n",
    "\n",
    "$$ hf = \\Delta E $$\n",
    "\n",
    "\n",
    "$$ f = \\frac{\\Delta E}{h}$$"
   ]
  },
  {
   "cell_type": "code",
   "execution_count": 120,
   "metadata": {
    "pycharm": {
     "name": "#%%\n"
    }
   },
   "outputs": [
    {
     "name": "stdout",
     "output_type": "stream",
     "text": [
      "from n = 4 to n = 1, Frequency per second = 3082883715665560.5\n",
      " from n = 4 to n = 2, Frequency per second = 616576743133112.1\n",
      "from n = 2 to n = 1, Frequency per second = 2466306972532448.5\n",
      "from n = 496 to n = 400, Frequency per second = 7185910013.622118\n"
     ]
    }
   ],
   "source": [
    "f1 = deltaE_1/h       # units Joules/Joules*s\n",
    "f2 = deltaE_2/h\n",
    "f3 = deltaE_3/h\n",
    "f4 = deltaE_4/h\n",
    "\n",
    "print('from n = 4 to n = 1, Frequency per second =', f1)\n",
    "print(' from n = 4 to n = 2, Frequency per second =',f2)\n",
    "print('from n = 2 to n = 1, Frequency per second =',f3)\n",
    "print('from n = 496 to n = 400, Frequency per second =',f4)"
   ]
  },
  {
   "cell_type": "markdown",
   "metadata": {
    "pycharm": {
     "name": "#%% md\n"
    }
   },
   "source": [
    "# 6. This corresponds to a wavelength of \n",
    "\n",
    "\n",
    "$$ c = \\lambda f $$\n",
    "\n",
    "\n",
    "$$ \\lambda = \\frac{c}{f}$$\n",
    "\n",
    "#### similar to spectroscopists had found that each spectral line of hydrogen could be associated with two integers, m and n, such that the wavelength λ of the spectral line was given by $$ \\frac{1}{\\lambda} = R_{H} \\left[\\frac{1}{n^{2}} - \\frac{1}{m^{2}} \\right]$$"
   ]
  },
  {
   "cell_type": "code",
   "execution_count": 121,
   "metadata": {
    "pycharm": {
     "name": "#%%\n"
    }
   },
   "outputs": [
    {
     "name": "stdout",
     "output_type": "stream",
     "text": [
      "Lyman Series, Ultraviolet, Vacuum, n = 4, wavelength in nanometers = 97.31148744779473\n",
      "Balmer Series, Visible, Air, n = 4,  wavelength in nanometers = 486.5574372389737\n",
      "Lyman Series, Ultraviolet, Vacuum, n = 2,  wavelength in nanometers = 121.63935930974343\n",
      "Radiowave, wavelength in nanometers = 41748365.82023694\n"
     ]
    }
   ],
   "source": [
    "wavelength1 = (c/f1)*10**9        # 10**9 converts meters to nanometers\n",
    "print('Lyman Series, Ultraviolet, Vacuum, n = 4, wavelength in nanometers =',wavelength1)\n",
    "\n",
    "wavelength2 = (c/f2)*10**9\n",
    "print('Balmer Series, Visible, Air, n = 4,  wavelength in nanometers =',wavelength2)\n",
    "\n",
    "wavelength3 = (c/f3)*10**9\n",
    "print('Lyman Series, Ultraviolet, Vacuum, n = 2,  wavelength in nanometers =', wavelength3)\n",
    "\n",
    "wavelength4 = (c/f4)*10**9\n",
    "print('Radiowave, wavelength in nanometers =', wavelength4)"
   ]
  },
  {
   "cell_type": "markdown",
   "metadata": {
    "pycharm": {
     "name": "#%% md\n"
    }
   },
   "source": [
    "### Reference \n",
    "\n",
    "- Greensite Jeff and Institute of Physics (Great Britain). An Introduction to Quantum Theory. IOP Publishing 2017. http://iopscience.iop.org/book/978-0-7503-1167-0.\n",
    "\n",
    "- Foot C. J. Atomic Physics. Oxford University Press 20082005."
   ]
  },
  {
   "cell_type": "code",
   "execution_count": null,
   "metadata": {
    "pycharm": {
     "name": "#%%\n"
    }
   },
   "outputs": [],
   "source": []
  }
 ],
 "metadata": {
  "kernelspec": {
   "display_name": "Python 3",
   "language": "python",
   "name": "python3"
  },
  "language_info": {
   "codemirror_mode": {
    "name": "ipython",
    "version": 3
   },
   "file_extension": ".py",
   "mimetype": "text/x-python",
   "name": "python",
   "nbconvert_exporter": "python",
   "pygments_lexer": "ipython3",
   "version": "3.6.8"
  }
 },
 "nbformat": 4,
 "nbformat_minor": 4
}